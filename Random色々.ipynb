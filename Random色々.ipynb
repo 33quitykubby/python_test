{
  "nbformat": 4,
  "nbformat_minor": 0,
  "metadata": {
    "colab": {
      "name": "Random色々.ipynb",
      "provenance": [],
      "collapsed_sections": [],
      "include_colab_link": true
    },
    "kernelspec": {
      "display_name": "Python 3",
      "name": "python3"
    }
  },
  "cells": [
    {
      "cell_type": "markdown",
      "metadata": {
        "id": "view-in-github",
        "colab_type": "text"
      },
      "source": [
        "<a href=\"https://colab.research.google.com/github/33quitykubby/python_test/blob/feature%2Ftest/Random%E8%89%B2%E3%80%85.ipynb\" target=\"_parent\"><img src=\"https://colab.research.google.com/assets/colab-badge.svg\" alt=\"Open In Colab\"/></a>"
      ]
    },
    {
      "cell_type": "markdown",
      "metadata": {
        "id": "ndo0gsKs29oE"
      },
      "source": [
        "# 乱数生成\n",
        "\n",
        "\n"
      ]
    },
    {
      "cell_type": "code",
      "metadata": {
        "id": "1pRgq_G9uso6"
      },
      "source": [
        "import numpy as np\n",
        "import random\n",
        "import matplotlib.pyplot as plt"
      ],
      "execution_count": null,
      "outputs": []
    },
    {
      "cell_type": "markdown",
      "metadata": {
        "id": "NjkbauUk9bKh"
      },
      "source": [
        "## rand\n",
        "\n",
        "一様分布(0以上、1未満)"
      ]
    },
    {
      "cell_type": "code",
      "metadata": {
        "colab": {
          "base_uri": "https://localhost:8080/",
          "height": 265
        },
        "id": "XWyialtl9bKj",
        "outputId": "dfad6e3d-2390-4774-86d3-1ee951ff54f1"
      },
      "source": [
        "R = np.random.rand(10000)        # 標準正規分布で乱数を1万個生成\n",
        "plt.hist(R, bins=100)   # 100本のヒストグラムを作成\n",
        "plt.show()              # グラフを表示"
      ],
      "execution_count": null,
      "outputs": [
        {
          "output_type": "display_data",
          "data": {
            "image/png": "[encoded data removed]",
            "text/plain": [
              "<Figure size 432x288 with 1 Axes>"
            ]
          },
          "metadata": {
            "tags": [],
            "needs_background": "light"
          }
        }
      ]
    },
    {
      "cell_type": "markdown",
      "metadata": {
        "id": "3tL1TrR7_0pW"
      },
      "source": [
        "## randint\n",
        "\n",
        "一様分布(任意の範囲)"
      ]
    },
    {
      "cell_type": "code",
      "metadata": {
        "colab": {
          "base_uri": "https://localhost:8080/",
          "height": 265
        },
        "id": "tm_xDr9B_0pX",
        "outputId": "d4203b9e-406a-4c9b-a867-65a53e6877f0"
      },
      "source": [
        "R = np.random.randint(0, 10000, 10000)        # 標準正規分布で乱数を1万個生成\n",
        "plt.hist(R, bins=100)   # 100本のヒストグラムを作成\n",
        "plt.show()              # グラフを表示"
      ],
      "execution_count": null,
      "outputs": [
        {
          "output_type": "display_data",
          "data": {
            "image/png": "[encoded data removed]",
            "text/plain": [
              "<Figure size 432x288 with 1 Axes>"
            ]
          },
          "metadata": {
            "tags": [],
            "needs_background": "light"
          }
        }
      ]
    },
    {
      "cell_type": "markdown",
      "metadata": {
        "id": "JRLBPGWn9OFy"
      },
      "source": [
        "## randn\n",
        "\n",
        "正規分布(平均0、標準偏差1)"
      ]
    },
    {
      "cell_type": "code",
      "metadata": {
        "colab": {
          "base_uri": "https://localhost:8080/",
          "height": 265
        },
        "id": "DPC5m5G29OF0",
        "outputId": "a6b6e418-4237-4671-8760-009482b8177c"
      },
      "source": [
        "R = np.random.randn(10000)        # 標準正規分布で乱数を1万個生成\n",
        "plt.hist(R, bins=100)   # 100本のヒストグラムを作成\n",
        "plt.show()              # グラフを表示"
      ],
      "execution_count": null,
      "outputs": [
        {
          "output_type": "display_data",
          "data": {
            "image/png": "[encoded data removed]",
            "text/plain": [
              "<Figure size 432x288 with 1 Axes>"
            ]
          },
          "metadata": {
            "tags": [],
            "needs_background": "light"
          }
        }
      ]
    },
    {
      "cell_type": "markdown",
      "metadata": {
        "id": "TULlR1Gz1o2b"
      },
      "source": [
        "## normal\n",
        "\n",
        "正規分布（平均n, 標準偏差m)"
      ]
    },
    {
      "cell_type": "code",
      "metadata": {
        "colab": {
          "base_uri": "https://localhost:8080/",
          "height": 267
        },
        "id": "seieg42yuwne",
        "outputId": "55710ade-9d5e-4b71-b661-c90f18e12c3f"
      },
      "source": [
        "R = np.random.normal(50,10,10000)        # 平均50, 標準偏差10で乱数を1万個生成\n",
        "plt.hist(R, bins=100)   # 100本のヒストグラムを作成\n",
        "plt.show()              # グラフを表示"
      ],
      "execution_count": null,
      "outputs": [
        {
          "output_type": "display_data",
          "data": {
            "image/png": "[encoded data removed]",
            "text/plain": [
              "<Figure size 432x288 with 1 Axes>"
            ]
          },
          "metadata": {
            "tags": [],
            "needs_background": "light"
          }
        }
      ]
    },
    {
      "cell_type": "markdown",
      "metadata": {
        "id": "E-7ILoSeFPDA"
      },
      "source": [
        "## beta\n",
        "\n",
        "ベータ分布"
      ]
    },
    {
      "cell_type": "code",
      "metadata": {
        "colab": {
          "base_uri": "https://localhost:8080/",
          "height": 265
        },
        "id": "yLPA-lu8FPEA",
        "outputId": "1e280386-d1b7-47de-f5cf-53daec92638b"
      },
      "source": [
        "R = np.random.beta(5,5,10000)        # 平均50, 標準偏差10で乱数を1万個生成\n",
        "plt.hist(R, bins=100)   # 100本のヒストグラムを作成\n",
        "plt.show()              # グラフを表示"
      ],
      "execution_count": null,
      "outputs": [
        {
          "output_type": "display_data",
          "data": {
            "image/png": "[encoded data removed]",
            "text/plain": [
              "<Figure size 432x288 with 1 Axes>"
            ]
          },
          "metadata": {
            "tags": [],
            "needs_background": "light"
          }
        }
      ]
    },
    {
      "cell_type": "markdown",
      "metadata": {
        "id": "r4-lqK7SApzY"
      },
      "source": [
        "## gamma\n",
        "\n",
        "ガンマ分布"
      ]
    },
    {
      "cell_type": "code",
      "metadata": {
        "colab": {
          "base_uri": "https://localhost:8080/",
          "height": 265
        },
        "id": "hJaMR-bbApzc",
        "outputId": "dd015955-cc48-4093-9e1c-92dc46aba588"
      },
      "source": [
        "R = np.random.gamma(50,10,10000)        # 平均50, 標準偏差10で乱数を1万個生成\n",
        "plt.hist(R, bins=100)   # 100本のヒストグラムを作成\n",
        "plt.show()              # グラフを表示"
      ],
      "execution_count": null,
      "outputs": [
        {
          "output_type": "display_data",
          "data": {
            "image/png": "[encoded data removed]",
            "text/plain": [
              "<Figure size 432x288 with 1 Axes>"
            ]
          },
          "metadata": {
            "tags": [],
            "needs_background": "light"
          }
        }
      ]
    },
    {
      "cell_type": "markdown",
      "metadata": {
        "id": "3UQSh6sLCJKc"
      },
      "source": [
        "## binomial\n",
        "\n",
        "二項分布"
      ]
    },
    {
      "cell_type": "code",
      "metadata": {
        "colab": {
          "base_uri": "https://localhost:8080/",
          "height": 265
        },
        "id": "9othGJQgCJKe",
        "outputId": "d7520a2e-1538-48b9-ebe3-f3be40a7847b"
      },
      "source": [
        "R = np.random.binomial(10000,0.5,10000)        # 平均50, 標準偏差10で乱数を1万個生成\n",
        "plt.hist(R, bins=100)   # 100本のヒストグラムを作成\n",
        "plt.show()              # グラフを表示"
      ],
      "execution_count": null,
      "outputs": [
        {
          "output_type": "display_data",
          "data": {
            "image/png": "[encoded data removed]",
            "text/plain": [
              "<Figure size 432x288 with 1 Axes>"
            ]
          },
          "metadata": {
            "tags": [],
            "needs_background": "light"
          }
        }
      ]
    },
    {
      "cell_type": "markdown",
      "metadata": {
        "id": "JH6N0Vc39F2b"
      },
      "source": [
        "# 選択"
      ]
    },
    {
      "cell_type": "markdown",
      "metadata": {
        "id": "PLvWJHTj1-qx"
      },
      "source": [
        "## choice"
      ]
    },
    {
      "cell_type": "code",
      "metadata": {
        "colab": {
          "base_uri": "https://localhost:8080/"
        },
        "id": "QLoJmEb02qoo",
        "outputId": "0b0db993-d909-4d1f-c71e-ed567e05d456"
      },
      "source": [
        "l = [0,1,2,3,4,5,6,7,8,9]\n",
        "\n",
        "for i in range(len(l)):\n",
        "  print(np.random.choice(l))\n",
        "\n",
        "print(random.choices(l, k=5))"
      ],
      "execution_count": null,
      "outputs": [
        {
          "output_type": "stream",
          "text": [
            "2\n",
            "6\n",
            "8\n",
            "9\n",
            "4\n",
            "8\n",
            "7\n",
            "2\n",
            "2\n",
            "9\n",
            "[8, 4, 9, 9, 9]\n"
          ],
          "name": "stdout"
        }
      ]
    },
    {
      "cell_type": "markdown",
      "metadata": {
        "id": "KMS0qYBc4_h7"
      },
      "source": [
        "## sample"
      ]
    },
    {
      "cell_type": "code",
      "metadata": {
        "colab": {
          "base_uri": "https://localhost:8080/"
        },
        "id": "x36ZYQnC5hpY",
        "outputId": "6533f998-34b4-4cff-89df-27f44fc7b268"
      },
      "source": [
        "l = [0,1,2,3,4,5,6,7,8,9]\n",
        "\n",
        "print(random.sample(l, 10))"
      ],
      "execution_count": null,
      "outputs": [
        {
          "output_type": "stream",
          "text": [
            "[7, 5, 6, 2, 0, 4, 1, 8, 9, 3]\n"
          ],
          "name": "stdout"
        }
      ]
    },
    {
      "cell_type": "markdown",
      "metadata": {
        "id": "v8AH400idpTk"
      },
      "source": [
        "# 終わり"
      ]
    },
    {
      "cell_type": "code",
      "metadata": {
        "id": "bdBIu4za5umf"
      },
      "source": [
        "#終了時刻\n",
        "finish_time = datetime.datetime.now(datetime.timezone(datetime.timedelta(hours=9)))\n",
        "print(\"finish_time=\",finish_time)\n",
        "print(\"total_time=\",finish_time-start_time)\n"
      ],
      "execution_count": null,
      "outputs": []
    }
  ]
}