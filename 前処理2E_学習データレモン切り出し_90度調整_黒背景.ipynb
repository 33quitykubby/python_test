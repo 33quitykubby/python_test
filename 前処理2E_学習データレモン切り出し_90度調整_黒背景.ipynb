{
  "nbformat": 4,
  "nbformat_minor": 0,
  "metadata": {
    "colab": {
      "name": "前処理2E_学習データレモン切り出し_90度調整_黒背景.ipynb",
      "provenance": [],
      "collapsed_sections": [],
      "toc_visible": true,
      "mount_file_id": "1ZtUMcvHKLSp6tFUs9PwZ3HicXQKEXG1H",
      "authorship_tag": "ABX9TyMnkER7GklLHeX8Nknj1IAS",
      "include_colab_link": true
    },
    "kernelspec": {
      "display_name": "Python 3",
      "name": "python3"
    }
  },
  "cells": [
    {
      "cell_type": "markdown",
      "metadata": {
        "id": "view-in-github",
        "colab_type": "text"
      },
      "source": [
        "<a href=\"https://colab.research.google.com/github/33quitykubby/python_test/blob/feature%2Ftest/%E5%89%8D%E5%87%A6%E7%90%862E_%E5%AD%A6%E7%BF%92%E3%83%87%E3%83%BC%E3%82%BF%E3%83%AC%E3%83%A2%E3%83%B3%E5%88%87%E3%82%8A%E5%87%BA%E3%81%97_90%E5%BA%A6%E8%AA%BF%E6%95%B4_%E9%BB%92%E8%83%8C%E6%99%AF.ipynb\" target=\"_parent\"><img src=\"https://colab.research.google.com/assets/colab-badge.svg\" alt=\"Open In Colab\"/></a>"
      ]
    },
    {
      "cell_type": "markdown",
      "metadata": {
        "id": "3kf_y_9NRxd4"
      },
      "source": [
        "# Python/OpenCVで画像内オブジェクトの輪郭抽出をする\n",
        "\n",
        "https://watlab-blog.com/2020/03/19/find-contours/"
      ]
    },
    {
      "cell_type": "code",
      "metadata": {
        "id": "4JnMripBH1PV"
      },
      "source": [
        "from PIL import Image\n",
        "import os, glob\n",
        "import numpy as np\n",
        "from sklearn import model_selection\n",
        "import tensorflow as tf\n",
        "import random\n",
        "import pandas as pd\n",
        "import datetime\n",
        "\n",
        "import cv2\n",
        "\n",
        "STANDARD_SEED = 0\n",
        "NP_SEED = 0\n",
        "TF_SEED = 0 \n",
        "\n",
        "np.random.seed(STANDARD_SEED)\n",
        "random.seed(NP_SEED)\n",
        "tf.random.set_seed(TF_SEED)"
      ],
      "execution_count": null,
      "outputs": []
    },
    {
      "cell_type": "markdown",
      "metadata": {
        "id": "RC0hr4X3k6Ue"
      },
      "source": [
        "# 目次\n",
        "1. 切り取り関数\n",
        "2. 学習データの切り取り\n",
        "3. テストデータの切り取り"
      ]
    },
    {
      "cell_type": "markdown",
      "metadata": {
        "id": "V3KtRk3Eipe8"
      },
      "source": [
        "# 1.パス定義"
      ]
    },
    {
      "cell_type": "code",
      "metadata": {
        "id": "60K1zQj5LnkO"
      },
      "source": [
        "BASE_PATH = '/content/drive/MyDrive/Colab Notebooks/SIGNATE_LEMON/new_data/'\n",
        "\n",
        "TRAIN_FILE_PATH = BASE_PATH + 'train_div/'\n",
        "# TRAIN_FILE_PATH = BASE_PATH + 'train_temp/' # テスト用（うまくいかないやつ）\n",
        "\n",
        "AUGMENT_TAIN_FILE_PATH = BASE_PATH + 'train_crop_4/'\n",
        "# AUGMENT_TAIN_FILE_PATH = TRAIN_FILE_PATH # テスト用（うまくきかないやつ)\n",
        "\n",
        "TEST_FILE_PATH = BASE_PATH + 'test_images/'\n",
        "\n",
        "AUGMENT_TEST_FILE_PATH = BASE_PATH + 'test_crop_4/test_images/'\n",
        "\n",
        "classes = ['0_Exellent', '1_Good', '2_ForProcess', '3_NonRegular']"
      ],
      "execution_count": null,
      "outputs": []
    },
    {
      "cell_type": "markdown",
      "metadata": {
        "id": "22b1SFVxzFgQ"
      },
      "source": [
        "# 1.1.ディレクトリ作成"
      ]
    },
    {
      "cell_type": "code",
      "metadata": {
        "colab": {
          "base_uri": "https://localhost:8080/"
        },
        "id": "A6KdFZPBBLwv",
        "outputId": "c33f3137-0b0f-472e-ed52-4162251688c6"
      },
      "source": [
        "try:\n",
        "    for i in range(len(classes)):\n",
        "      dir_name = AUGMENT_TAIN_FILE_PATH + classes[i]\n",
        "      print(dir_name)\n",
        "      os.makedirs(dir_name)\n",
        "except FileExistsError:\n",
        "    pass"
      ],
      "execution_count": null,
      "outputs": [
        {
          "output_type": "stream",
          "text": [
            "/content/drive/MyDrive/Colab Notebooks/SIGNATE_LEMON/new_data/train_crop_4/0_Exellent\n"
          ],
          "name": "stdout"
        }
      ]
    },
    {
      "cell_type": "markdown",
      "metadata": {
        "id": "BflG846x5Dd5"
      },
      "source": [
        "# 2.ヒストグラム調整（未使用）\n",
        "Contrast limited adaptive histogram equalization(CLAHE)を適用\n",
        "\n",
        "PIL でカラー画像を Equalize(ヒストグラム平坦化)する際の注意  \n",
        "https://qiita.com/yoya/items/a11085f90f555b887cf6\n",
        "\n",
        "PIL(pillow)画像をnumpyにしたり戻したり  \n",
        "https://chiyoh.hatenablog.com/entry/2019/05/04/145639"
      ]
    },
    {
      "cell_type": "code",
      "metadata": {
        "id": "NH2GR2K15rBP"
      },
      "source": [
        "from PIL import Image, ImageOps\n",
        "import sys\n",
        "\n",
        "def HistConvert(input_image):\n",
        "\n",
        "  img_yuv = cv2.cvtColor(input_image, cv2.COLOR_BGR2YUV)\n",
        "\n",
        "  clahe = cv2.createCLAHE(clipLimit=2.0, tileGridSize=(8,8))\n",
        "  img_yuv[:,:,0] = clahe.apply(img_yuv[:,:,0])\n",
        "\n",
        "  dat_RGB = cv2.cvtColor(img_yuv, cv2.COLOR_YUV2BGR)\n",
        "\n",
        "  return dat_RGB"
      ],
      "execution_count": null,
      "outputs": []
    },
    {
      "cell_type": "markdown",
      "metadata": {
        "id": "sJUmdigKknkc"
      },
      "source": [
        "# 3.切り取り関数"
      ]
    },
    {
      "cell_type": "code",
      "metadata": {
        "id": "qhkRpS5TRr27"
      },
      "source": [
        "import cv2\n",
        "from matplotlib import pyplot as plt\n",
        "\n",
        "def border_test (file, threshold):\n",
        "\n",
        "  # カラー画像の読み込み\n",
        "  img = cv2.imread(file, 1)\n",
        "\n",
        "  # ヒストグラム平坦化\n",
        "  # うまく切り出せてないのでやめ\n",
        "  # img_histed = HistConvert(img)\n",
        "  \n",
        "  #リサイズ\n",
        "  img_resized = cv2.resize(img, (IMAGE_SIZE, IMAGE_SIZE))\n",
        "\n",
        "  # とっておく\n",
        "  img_input = img_resized.copy()\n",
        "\n",
        "  # グレースケール化\n",
        "  img_gray = cv2.cvtColor(img_resized, cv2.COLOR_BGR2GRAY)\n",
        "  \n",
        "  # 単純二値化\n",
        "  print(\"threshold = \", threshold)\n",
        "\n",
        "  if ( threshold == 0):\n",
        "    param = cv2.THRESH_OTSU\n",
        "  else:\n",
        "    param = cv2.THRESH_BINARY\n",
        "\n",
        "  ret, img_binary = cv2.threshold(img_gray,\n",
        "                                  threshold, \n",
        "                                  255,\n",
        "                                  # cv2.THRESH_BINARY)\n",
        "                                  param)\n",
        "\n",
        "  # 輪郭抽出\n",
        "  contours, hierarchy = cv2.findContours(img_binary,\n",
        "                                        cv2.RETR_LIST,\n",
        "                                        # cv2.CHAIN_APPROX_NONE)\n",
        "                                        cv2.CHAIN_APPROX_SIMPLE)\n",
        "\n",
        "  # print(contours)\n",
        "  # print(contours[0])\n",
        "  # print(contours[1])\n",
        "  # print(contours[2])\n",
        "  # print(hierarchy)\n",
        "  # print(type(contours))\n",
        "  # print(len(contours))\n",
        "\n",
        "  pre_area = 0\n",
        "  index = 0\n",
        "  for i in range(0, len(contours)-1): #最後は画像全体になるので-1に\n",
        "    cnt = contours[i]\n",
        "    area = cv2.contourArea(cnt)\n",
        "    x,y,w,h = cv2.boundingRect(cnt)\n",
        "    # print(area,x,y,w,h)\n",
        "    if area > pre_area:\n",
        "      pre_area = area\n",
        "      index = i\n",
        "      (pre_x, pre_y, pre_w, pre_h) = (x, y, w, h)\n",
        "\n",
        "  print(\"max={}:({},{}) w={},h={}\".format(pre_area,pre_x,pre_y,pre_w,pre_h))\n",
        "\n",
        "  # 輪郭を元画像に描画\n",
        "  # img_contour = cv2.drawContours(img_resized, contours[:len(contours)-2], -1, (0, 255, 0), 5)\n",
        "  # img_contour = cv2.drawContours(img_resized, contours[index], -1, (0, 255, 0), 5)\n",
        "  img_contour = cv2.drawContours(img_resized, contours[index], -1, (0, 0, 0), 5,  lineType = cv2.LINE_AA)\n",
        "\n",
        "  ###############################################################################################\n",
        "  #　黒背景化\n",
        "  ###############################################################################################\n",
        "  \n",
        "  border_len = len(contours[index])\n",
        "\n",
        "  cv2.fillConvexPoly(img_contour, points =contours[index], color=(255,255,255))\n",
        "\n",
        "  temp_contour = np.floor(img_contour/255) # マスク\n",
        "  # print(temp_contour)\n",
        "  # print(type(temp_contour))\n",
        "  # print(np.shape(temp_contour))\n",
        "\n",
        "  img_contour2 = temp_contour * img_input # マスクをかけて背景だけ黒に\n",
        "  img_contour2 = img_contour2.astype(np.uint8) # 型変換\n",
        "  print(\"===========================================================\")\n",
        "  # print(\"img_contour:type={},shape={},dtype={}\".format(type(img_contour),np.shape(img_contour),img_contour.dtype))\n",
        "  # # print(img_contour)\n",
        "  # print(\"===========================================================\")\n",
        "  # print(\"img_contour2:type={},shape={},dtype={}\".format(type(img_contour2),np.shape(img_contour2),img_contour2.dtype))\n",
        "  # print(img_contour2)\n",
        "  print(border_len)\n",
        "  print(\"===========================================================\")\n",
        "\n",
        "  # ここから画像描画\n",
        "  fig = plt.figure()\n",
        "  ax1 = fig.add_subplot(111)\n",
        "  ax1.imshow(cv2.cvtColor(img_contour2, cv2.COLOR_BGR2RGB))\n",
        "  ax1.axis('off')\n",
        "  plt.show()\n",
        "  plt.close()\n",
        "\n",
        "  return (pre_x,pre_y,pre_w,pre_h,ret,border_len,img_contour2)"
      ],
      "execution_count": null,
      "outputs": []
    },
    {
      "cell_type": "markdown",
      "metadata": {
        "id": "v4r_GE7L11WI"
      },
      "source": [
        "# 4.ガウシアンフィルタ（未使用）  \n",
        "https://algorithm.joho.info/programming/python/opencv-gaussian-filter-py/"
      ]
    },
    {
      "cell_type": "code",
      "metadata": {
        "id": "AruyCmbw1yQ2"
      },
      "source": [
        "import cv2\n",
        "from matplotlib import pyplot as plt\n",
        "\n",
        "def gaussian (file):\n",
        "\n",
        "    image = cv2.imread(file)\n",
        "\n",
        "    height_image, width_image, c_image = image.shape\n",
        "\n",
        "    # ksize_x = int(width_image * 0.1)\n",
        "    # ksize_y = int(height_image * 0.1)\n",
        "    ksize_x = 5\n",
        "    ksize_y = 5\n",
        "\n",
        "    print(\"ksize={},{}\".format(ksize_x, ksize_y))\n",
        "\n",
        "    sigma = 1.5\n",
        "\n",
        "    gauss_out = cv2.GaussianBlur(image, ksize=(ksize_x, ksize_y), sigmaX=sigma)\n",
        "\n",
        "    return gauss_out\n"
      ],
      "execution_count": null,
      "outputs": []
    },
    {
      "cell_type": "markdown",
      "metadata": {
        "id": "YBGU7-iqks7z"
      },
      "source": [
        "# 5.学習データの輪郭切り取り"
      ]
    },
    {
      "cell_type": "code",
      "metadata": {
        "colab": {
          "base_uri": "https://localhost:8080/"
        },
        "id": "RHAc2B9zs7ku",
        "outputId": "75dec089-9523-46fc-8970-3936a9cc9592"
      },
      "source": [
        "#現在時刻\n",
        "now = datetime.datetime.now(datetime.timezone(datetime.timedelta(hours=9)))\n",
        "print(now)"
      ],
      "execution_count": null,
      "outputs": [
        {
          "output_type": "stream",
          "text": [
            "2021-02-17 20:25:15.918769+09:00\n"
          ],
          "name": "stdout"
        }
      ]
    },
    {
      "cell_type": "code",
      "metadata": {
        "id": "BlZ0T344CT7p"
      },
      "source": [
        "# classes = ['0_Exellent', '1_Good', '2_ForProcess', '3_NonRegular']\n",
        "\n",
        "num_classes = len(classes)\n",
        "IMAGE_SIZE = 600 #EfficientNet-B7\n",
        "\n",
        "\n",
        "X = [] # image file\n",
        "Y = [] # correct label\n",
        "# TRAIN_FILE_PATH = BASE_PATH + 'train_div/'\n",
        "\n",
        "# AUGMENT_TAIN_FILE_PATH = BASE_PATH + 'train_crop_2/'\n",
        "\n",
        "for index, classlabel in enumerate(classes):\n",
        "    photo_dir = TRAIN_FILE_PATH + classlabel\n",
        "    print(\"photo_dir\",photo_dir)\n",
        "    files = sorted(glob.glob(photo_dir + '/*.jpg'))\n",
        "    ii = 0\n",
        "    for ii, file in enumerate(files):\n",
        "        print(\"{}:file={}\".format(ii,file))\n",
        "\n",
        "        # 3段階でthreshを変更\n",
        "        # 幅、高さが201から599の間ならPass\n",
        "        for  i in range(5):\n",
        "          # if i == 0:\n",
        "          #   thresh = 0\n",
        "          # elif i == 1:\n",
        "          #   thresh = 60\n",
        "          # elif i == 2:\n",
        "          #   thresh = 90\n",
        "          # else:\n",
        "          #   thresh = 120\n",
        "          if i == 0:\n",
        "            thresh = 60\n",
        "          elif i == 1:\n",
        "            thresh = 90\n",
        "          elif i == 2:\n",
        "            thresh = 120\n",
        "          elif i == 3:\n",
        "            thresh = 75\n",
        "          elif i == 4:\n",
        "            thresh = 105\n",
        "          else:\n",
        "            thresh = 0\n",
        "          (xx, yy, ww, hh, th, border_len, img_black_back) =border_test(file, thresh)\n",
        "          if ((200 < ww and ww < 510) and (200 < hh and hh < 510)):\n",
        "            if (border_len < 650):\n",
        "              print(\"OK!\")\n",
        "              break\n",
        "\n",
        "        # image = cv2.imread(file,0)\n",
        "        # image = cv2.imread(file)\n",
        "\n",
        "        # ヒストグラム平坦化\n",
        "        # img_histed = HistConvert(image)\n",
        "\n",
        "        # img_resized = image\n",
        "        img_resized = cv2.resize(img_black_back, (IMAGE_SIZE, IMAGE_SIZE)) #リサイズ\n",
        "\n",
        "        ##########　拡大 ############\n",
        "\n",
        "        # 長辺に合わせて正方形に切り出し\n",
        "\n",
        "        OFFSET_MERGIN = 15 # 切り出しの周囲に付与するマージン\n",
        "\n",
        "        if ww > hh:\n",
        "          print (\"ww > hh\")\n",
        "          crop_length = ww + OFFSET_MERGIN * 2 #切り出しの一辺\n",
        "          offset_y = yy - ( crop_length - hh ) * 0.5\n",
        "          offset_x = xx - OFFSET_MERGIN\n",
        "          offset_yy = offset_y + crop_length\n",
        "          offset_xx = offset_x + crop_length\n",
        "        else:\n",
        "          print (\"ww <= hh\")\n",
        "          crop_length = hh + OFFSET_MERGIN * 2 #切り出しの一辺\n",
        "          offset_y = yy - OFFSET_MERGIN\n",
        "          offset_x = xx - ( crop_length - ww ) * 0.5\n",
        "          offset_yy = offset_y + crop_length\n",
        "          offset_xx = offset_x + crop_length\n",
        "\n",
        "\n",
        "        #本当は反対側のオフセットも再計算するべきだが、ひとまずこれで\n",
        "        if offset_x < 0 :\n",
        "          print(\"offset_x set to 0\")\n",
        "          offset_x = 0\n",
        "        if offset_y < 0 :\n",
        "          print(\"offset_y set to 0\")\n",
        "          offset_y = 0\n",
        "        if offset_xx > IMAGE_SIZE:\n",
        "          print(\"offset_xx set to IMAGE SIZE\")\n",
        "          offset_xx = IMAGE_SIZE\n",
        "        if offset_yy > IMAGE_SIZE:\n",
        "          print(\"offset_yy set to IMAGE SIZE\")\n",
        "          offset_yy = IMAGE_SIZE\n",
        "\n",
        "        offset_x = int(offset_x) #横方向　左端から切り出し開始までのピクセル数\n",
        "        offset_y = int(offset_y) #縦方向　上端から切り出し開始までのピクセル数\n",
        "\n",
        "        offset_xx = int(offset_xx) #横方向　左端から切り出されるところまでのピクセル数\n",
        "        offset_yy = int(offset_yy) #縦方向　上端から切り出されるところまでのピクセル数\n",
        "\n",
        "        print(\"x={}, xx={}, y={}, yy={}\".format(offset_x, offset_xx, offset_y, offset_yy))\n",
        "        \n",
        "        # 切り出し\n",
        "        im_cropped = img_resized[offset_y:offset_yy, offset_x:offset_xx, :]\n",
        "\n",
        "        write_image = im_cropped\n",
        "\n",
        "        # ファイル出力\n",
        "        # ファイル名だけ抽出\n",
        "        # temp_file = file.lstrip(photo_dir+'/')#ファイルパス削除にlstripは使えない（一致した文字から先が消える）\n",
        "        temp_file = file.replace(photo_dir+'/', \"\")\n",
        "        temp_file = temp_file.replace(\".jpg\", \"_\" + str(th) + \".jpg\") #ファイル名に切り出しのthを入れておく(うまく切り出せてない奴の確認のため)\n",
        "        print(\"file=\",temp_file)\n",
        "        # \n",
        "        # outfile_name = AUGMENT_TAIN_FILE_PATH + classlabel + '/temp/m_' + temp_file # テスト用（うまくきかないやつ)\n",
        "        outfile_name = AUGMENT_TAIN_FILE_PATH + classlabel + '/' + temp_file\n",
        "        print(\"output=\",outfile_name)\n",
        "        cv2.imwrite(outfile_name, write_image)\n",
        "\n",
        "        ###############################################\n",
        "        # 90度回転 \n",
        "        ###############################################\n",
        "        write_image2 = np.rot90(write_image)\n",
        "\n",
        "        # ファイル出力\n",
        "        # ファイル名だけ抽出\n",
        "        temp_file = temp_file.replace(\".jpg\", \"_r.jpg\")\n",
        "        print(\"90dig rotetion file=\",temp_file)\n",
        "        # \n",
        "        # outfile_name = AUGMENT_TAIN_FILE_PATH + classlabel + '/temp/m_' + temp_file # テスト用（うまくきかないやつ)\n",
        "        outfile_name = AUGMENT_TAIN_FILE_PATH + classlabel + '/' + temp_file\n",
        "        print(\"90dig rotetion output=\",outfile_name)\n",
        "\n",
        "        cv2.imwrite(outfile_name, write_image2)\n",
        "\n",
        "        # if ii > 2 :\n",
        "        #   print(\"breaking!!!!!!\")\n",
        "        #   break\n",
        "\n",
        "print(\"########### end ###########\")"
      ],
      "execution_count": null,
      "outputs": []
    },
    {
      "cell_type": "code",
      "metadata": {
        "colab": {
          "base_uri": "https://localhost:8080/"
        },
        "id": "whmM6vUas8zm",
        "outputId": "61ab48ea-778d-4850-b0e5-8d2a1f266a49"
      },
      "source": [
        "#現在時刻\n",
        "now2 = datetime.datetime.now(datetime.timezone(datetime.timedelta(hours=9)))\n",
        "print(now2)\n",
        "print(now2-now)"
      ],
      "execution_count": null,
      "outputs": [
        {
          "output_type": "stream",
          "text": [
            "2021-02-17 07:28:47.470385+09:00\n",
            "0:00:00.155565\n"
          ],
          "name": "stdout"
        }
      ]
    },
    {
      "cell_type": "markdown",
      "metadata": {
        "id": "SjUuEPrFkx93"
      },
      "source": [
        "# 6.テストデータの切り取り"
      ]
    },
    {
      "cell_type": "code",
      "metadata": {
        "colab": {
          "base_uri": "https://localhost:8080/"
        },
        "id": "Tef0-4nDV2fT",
        "outputId": "c33adc14-2ec4-45cc-b38f-051b613ace64"
      },
      "source": [
        "#現在時刻\n",
        "now = datetime.datetime.now(datetime.timezone(datetime.timedelta(hours=9)))\n",
        "print(now)"
      ],
      "execution_count": null,
      "outputs": [
        {
          "output_type": "stream",
          "text": [
            "2021-02-18 08:23:13.832919+09:00\n"
          ],
          "name": "stdout"
        }
      ]
    },
    {
      "cell_type": "code",
      "metadata": {
        "colab": {
          "background_save": true
        },
        "id": "5dP4TyU2UX9a"
      },
      "source": [
        "IMAGE_SIZE = 600 #EfficientNet-B7\n",
        "\n",
        "\n",
        "X = [] # image file\n",
        "Y = [] # correct label\n",
        "\n",
        "photo_dir = TEST_FILE_PATH\n",
        "print(\"photo_dir\",photo_dir)\n",
        "files = sorted(glob.glob(photo_dir + '/*.jpg'))\n",
        "for ii, file in enumerate(files):\n",
        "    print(\"{}:file={}\".format(ii,file))\n",
        "\n",
        "    for  i in range(5):\n",
        "      # if i == 0:\n",
        "      #   thresh = 0\n",
        "      # elif i == 1:\n",
        "      #   thresh = 60\n",
        "      # elif i == 2:\n",
        "      #   thresh = 90\n",
        "      # else:\n",
        "      #   thresh = 120\n",
        "      if i == 0:\n",
        "        thresh = 60\n",
        "      elif i == 1:\n",
        "        thresh = 90\n",
        "      elif i == 2:\n",
        "        thresh = 120\n",
        "      elif i == 3:\n",
        "        thresh = 75\n",
        "      elif i == 4:\n",
        "        thresh = 105\n",
        "      else:\n",
        "        thresh = 0\n",
        "      (xx, yy, ww, hh, th, border_len, img_black_back) =border_test(file, thresh)\n",
        "      if ((200 < ww and ww < 510) and (200 < hh and hh < 510)):\n",
        "        if (border_len < 650):\n",
        "          print(\"OK!\")\n",
        "          break\n",
        "\n",
        "\n",
        "    # image = cv2.imread(file,0)\n",
        "    # image = cv2.imread(file)\n",
        "\n",
        "    # ヒストグラム平坦化\n",
        "    # img_histed = HistConvert(image)\n",
        "\n",
        "    # img_resized = image\n",
        "    img_resized = cv2.resize(img_black_back, (IMAGE_SIZE, IMAGE_SIZE)) #リサイズ\n",
        "\n",
        "    ##########　拡大 ############\n",
        "\n",
        "    # 長辺に合わせて正方形に切り出し\n",
        "\n",
        "    OFFSET_MERGIN = 15 # 切り出しの周囲に付与するマージン\n",
        "\n",
        "    if ww > hh:\n",
        "      print (\"ww > hh\")\n",
        "      crop_length = ww + OFFSET_MERGIN * 2 #切り出しの一辺\n",
        "      offset_y = yy - ( crop_length - hh ) * 0.5\n",
        "      offset_x = xx - OFFSET_MERGIN\n",
        "      offset_yy = offset_y + crop_length\n",
        "      offset_xx = offset_x + crop_length\n",
        "    else:\n",
        "      print (\"ww <= hh\")\n",
        "      crop_length = hh + OFFSET_MERGIN * 2 #切り出しの一辺\n",
        "      offset_y = yy - OFFSET_MERGIN\n",
        "      offset_x = xx - ( crop_length - ww ) * 0.5\n",
        "      offset_yy = offset_y + crop_length\n",
        "      offset_xx = offset_x + crop_length\n",
        "\n",
        "\n",
        "    #本当は反対側のオフセットも再計算するべきだが、ひとまずこれで\n",
        "    if offset_x < 0 :\n",
        "      print(\"offset_x set to 0\")\n",
        "      offset_x = 0\n",
        "    if offset_y < 0 :\n",
        "      print(\"offset_y set to 0\")\n",
        "      offset_y = 0\n",
        "    if offset_xx > IMAGE_SIZE:\n",
        "      print(\"offset_xx set to IMAGE SIZE\")\n",
        "      offset_xx = IMAGE_SIZE\n",
        "    if offset_yy > IMAGE_SIZE:\n",
        "      print(\"offset_yy set to IMAGE SIZE\")\n",
        "      offset_yy = IMAGE_SIZE\n",
        "\n",
        "    offset_x = int(offset_x) #横方向　左端から切り出し開始までのピクセル数\n",
        "    offset_y = int(offset_y) #縦方向　上端から切り出し開始までのピクセル数\n",
        "\n",
        "    offset_xx = int(offset_xx) #横方向　左端から切り出されるところまでのピクセル数\n",
        "    offset_yy = int(offset_yy) #縦方向　上端から切り出されるところまでのピクセル数\n",
        "\n",
        "    print(\"x={}, xx={}, y={}, yy={}\".format(offset_x, offset_xx, offset_y, offset_yy))\n",
        "    \n",
        "    # 切り出し\n",
        "    im_cropped = img_resized[offset_y:offset_yy, offset_x:offset_xx, :]\n",
        "\n",
        "    write_image = im_cropped\n",
        "\n",
        "    # ファイル出力\n",
        "    # ファイル名だけ抽出\n",
        "    # temp_file = file.lstrip(photo_dir+'/')#ファイルパス削除にlstripは使えない（一致した文字から先が消える）\n",
        "    temp_file = file.replace(photo_dir, \"\")\n",
        "    # temp_file = temp_file.replace(\".jpg\", \"_\" + str(th) + \".jpg\") #ファイル名に切り出しのthを入れておく(うまく切り出せてない奴の確認のため)\n",
        "    print(\"file={} / th={}\".format(temp_file,th))\n",
        "    # \n",
        "    outfile_name = AUGMENT_TEST_FILE_PATH + temp_file\n",
        "    print(\"output=\",outfile_name)\n",
        "    cv2.imwrite(outfile_name, write_image)\n",
        "\n",
        "\n",
        "    # if ii > 2 :\n",
        "    #   print(\"breaking!!!!!!\")\n",
        "    #   break\n",
        "\n",
        "print(\"########### end ###########\")"
      ],
      "execution_count": null,
      "outputs": []
    },
    {
      "cell_type": "code",
      "metadata": {
        "colab": {
          "base_uri": "https://localhost:8080/"
        },
        "id": "g1NZeqJdV4mZ",
        "outputId": "a217529d-68fa-4a01-c9f5-c4654117338b"
      },
      "source": [
        "#現在時刻\n",
        "now2 = datetime.datetime.now(datetime.timezone(datetime.timedelta(hours=9)))\n",
        "print(now2)\n",
        "print(now2-now)"
      ],
      "execution_count": null,
      "outputs": [
        {
          "output_type": "stream",
          "text": [
            "2021-02-18 08:23:39.174019+09:00\n",
            "0:00:25.341100\n"
          ],
          "name": "stdout"
        }
      ]
    }
  ]
}