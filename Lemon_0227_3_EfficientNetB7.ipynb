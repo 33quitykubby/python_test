{
  "nbformat": 4,
  "nbformat_minor": 0,
  "metadata": {
    "accelerator": "GPU",
    "colab": {
      "name": "Lemon_0227_3_EfficientNetB7.ipynb",
      "provenance": [],
      "collapsed_sections": [],
      "toc_visible": true,
      "include_colab_link": true
    },
    "kernelspec": {
      "display_name": "Python 3",
      "name": "python3"
    }
  },
  "cells": [
    {
      "cell_type": "markdown",
      "metadata": {
        "id": "view-in-github",
        "colab_type": "text"
      },
      "source": [
        "<a href=\"https://colab.research.google.com/github/33quitykubby/python_test/blob/feature%2Ftest/Lemon_0227_3_EfficientNetB7.ipynb\" target=\"_parent\"><img src=\"https://colab.research.google.com/assets/colab-badge.svg\" alt=\"Open In Colab\"/></a>"
      ]
    },
    {
      "cell_type": "markdown",
      "metadata": {
        "id": "76jHxNU-fzZI"
      },
      "source": [
        "# **ひろしまQuest2020：画像データを使ったレモンの外観分類**  \n",
        "\n",
        "https://signate.jp/competitions/362/data"
      ]
    },
    {
      "cell_type": "code",
      "metadata": {
        "colab": {
          "base_uri": "https://localhost:8080/"
        },
        "id": "ehryLvLIAg6j",
        "outputId": "f6a9e93f-4c97-4803-933a-be287a365a6f"
      },
      "source": [
        "from google.colab import drive\n",
        "drive.mount('/content/drive')"
      ],
      "execution_count": null,
      "outputs": [
        {
          "output_type": "stream",
          "text": [
            "Mounted at /content/drive\n"
          ],
          "name": "stdout"
        }
      ]
    },
    {
      "cell_type": "markdown",
      "metadata": {
        "id": "aFawz7zCioGw"
      },
      "source": [
        "# 日本時間にする"
      ]
    },
    {
      "cell_type": "code",
      "metadata": {
        "colab": {
          "base_uri": "https://localhost:8080/"
        },
        "id": "Qqk7xVQXilAv",
        "outputId": "3f327b1a-c83e-41e2-c2dd-bdc660237502"
      },
      "source": [
        "  !rm /etc/localtime\n",
        "  !ln -s /usr/share/zoneinfo/Asia/Tokyo /etc/localtime\n",
        "  !date"
      ],
      "execution_count": null,
      "outputs": [
        {
          "output_type": "stream",
          "text": [
            "Sat Feb 27 17:43:58 JST 2021\n"
          ],
          "name": "stdout"
        }
      ]
    },
    {
      "cell_type": "markdown",
      "metadata": {
        "id": "0XSgZcpT4tkC"
      },
      "source": [
        "# ライブラリのインポート"
      ]
    },
    {
      "cell_type": "code",
      "metadata": {
        "id": "9hlcGt_j4tkD"
      },
      "source": [
        "import pandas as pd\n",
        "import numpy as np\n",
        "\n",
        "from matplotlib import pyplot as plt\n",
        "%matplotlib inline\n",
        "\n",
        "import os\n",
        "import glob\n",
        "\n",
        "import librosa\n",
        "\n",
        "import datetime\n",
        "\n",
        "import gc"
      ],
      "execution_count": null,
      "outputs": []
    },
    {
      "cell_type": "code",
      "metadata": {
        "colab": {
          "base_uri": "https://localhost:8080/"
        },
        "id": "l3Kfi-5YVRYV",
        "outputId": "0ca638ca-2064-4e6c-8955-7e72685b5e41"
      },
      "source": [
        "#開始時刻\n",
        "start_time = datetime.datetime.now(datetime.timezone(datetime.timedelta(hours=9)))\n",
        "print(\"start_time=\",start_time)"
      ],
      "execution_count": null,
      "outputs": [
        {
          "output_type": "stream",
          "text": [
            "start_time= 2021-02-27 17:44:01.608284+09:00\n"
          ],
          "name": "stdout"
        }
      ]
    },
    {
      "cell_type": "markdown",
      "metadata": {
        "id": "UdzrJm_XYr17"
      },
      "source": [
        "# 乱数シードの初期化\n",
        "\n",
        "【参考】gpuの順序性（tensorflowのバージョンが書かれているものと違うため適用していない)  \n",
        "https://qiita.com/Rin-P/items/acacbb6bd93d88d1ca1b　　\n",
        "\n",
        "\n",
        "[TensorFlow 2.x (tf.keras)] 乱数シードを固定して再現性を向上  \n",
        "以下の記事によると  \n",
        "「モデルインスタンス生成 (Sequentialやfunctional APIやSubClassの利用) の直前にtf.random.set_seedを呼ぶようにすると、生成されたモデルは毎回同じ初期値をもってくれます。」  \n",
        "とのこと→あまり効いてないかも  \n",
        "https://qiita.com/bee2/items/08eab7a899c9ff56eb35\n",
        "\n",
        "\n",
        "https://qiita.com/temple1026/items/05546696f5dc9828e270\n",
        "\n",
        "\n",
        "\n"
      ]
    },
    {
      "cell_type": "code",
      "metadata": {
        "id": "wNUHyFvYF1_Z"
      },
      "source": [
        "import os \n",
        "import numpy as np\n",
        "from sklearn import model_selection\n",
        "import tensorflow as tf\n",
        "import random\n",
        "\n",
        "COMMON_SEED = 0\n",
        "STANDARD_SEED = 0\n",
        "NP_SEED = 0\n",
        "TF_SEED = 0 \n",
        "\n",
        "# np.random.seed(STANDARD_SEED)\n",
        "# random.seed(NP_SEED)\n",
        "# tf.random.set_seed(TF_SEED)\n",
        "\n",
        "def seed_everything():\n",
        "    random.seed(STANDARD_SEED)\n",
        "    os.environ['PYTHONHASHSEED'] = str(COMMON_SEED)\n",
        "    os.environ['TF_DETERMINISTIC_OPS'] = '1'\n",
        "    os.environ['TF_CUDNN_DETERMINISTIC'] = '1'\n",
        "    np.random.seed(NP_SEED)\n",
        "    tf.random.set_seed(TF_SEED)\n",
        "    session_conf = tf.compat.v1.ConfigProto(\n",
        "        intra_op_parallelism_threads=1,\n",
        "        inter_op_parallelism_threads=1\n",
        "    )\n",
        "    sess = tf.compat.v1.Session(graph=tf.compat.v1.get_default_graph(), config=session_conf)\n",
        "    tf.compat.v1.keras.backend.set_session(sess)\n"
      ],
      "execution_count": null,
      "outputs": []
    },
    {
      "cell_type": "code",
      "metadata": {
        "id": "9AOmh1f2uhww"
      },
      "source": [
        "#乱数シード固定\n",
        "\n",
        "seed_everything()"
      ],
      "execution_count": null,
      "outputs": []
    },
    {
      "cell_type": "markdown",
      "metadata": {
        "id": "V3KtRk3Eipe8"
      },
      "source": [
        "# パス定義"
      ]
    },
    {
      "cell_type": "code",
      "metadata": {
        "id": "0EErzFsxdELb"
      },
      "source": [
        "BASE_PATH = '/content/drive/MyDrive/Colab Notebooks/SIGNATE_LEMON/new_data/'\n",
        "\n",
        "TRAIN_FILE_PATH =  BASE_PATH + 'train_crop_5/'\n",
        "TEST_FILE_PATH_A =  BASE_PATH + 'test_crop_5/'\n",
        "# TEST_SAMPLE_FILE_PATH =  BASE_PATH + 'test_crop/'\n",
        "\n",
        "OUTPUT_PATH='/content/drive/MyDrive/SIGNATE/Lemon/'\n",
        "\n",
        "STR_MODEL='EfficientB7'\n",
        "\n",
        "#エポック\n",
        "EPOCH = 82\n",
        "\n",
        "# バッチサイズ\n",
        "BATCH_SIZE = 80\n",
        "\n",
        "# 学習率\n",
        "LEARNING_RATE = 2e-3\n",
        "\n",
        "# 画像サイズ\n",
        "IMAGE_SIZE = 600 # Specified size\n",
        "\n",
        "# 重複実行のためのID\n",
        "STR_ID = \"2\""
      ],
      "execution_count": null,
      "outputs": []
    },
    {
      "cell_type": "markdown",
      "metadata": {
        "id": "oqTZeCOiA8sk"
      },
      "source": [
        "\n",
        "# ImageDataGeneratorを使う 学習データ定義\n",
        "[学習済みモデルの比較と前処理](https://qiita.com/taichinakabeppu/items/ae5a1b594a2e9b1196eb)  \n",
        "[ディープラーニング　脱超初心者向け基礎知識](https://qiita.com/gal1996/items/00ed3589e13448496b4c)  \n",
        "[ImageDataGeneratorクラス](https://keras.io/ja/preprocessing/image/)  \n"
      ]
    },
    {
      "cell_type": "code",
      "metadata": {
        "id": "BlZ0T344CT7p"
      },
      "source": [
        "import numpy as np\n",
        "from sklearn import model_selection\n",
        "import tensorflow as tf\n",
        "import random\n",
        "\n",
        "import matplotlib.pyplot as plt\n",
        "from tensorflow.keras.preprocessing.image import ImageDataGenerator\n",
        "import tensorflow.keras.backend as K\n",
        "from tensorflow.keras import models, layers\n",
        "from tensorflow.keras.applications import EfficientNetB7\n",
        "\n",
        "#乱数シード固定\n",
        "seed_everything()\n",
        "\n",
        "classes = ['0_Exellent', '1_Good', '2_ForProcess', '3_NonRegular']\n",
        "num_classes = len(classes)\n",
        "\n",
        "X = [] # image file\n",
        "Y = [] # correct label\n",
        "\n",
        "#DataGeneratorのインスタンス化\n",
        "# train, validation 用\n",
        "datagen = ImageDataGenerator(\n",
        "    preprocessing_function=tf.keras.applications.efficientnet.preprocess_input,\n",
        "    # rotation_range=180, #180度回転\n",
        "    # zoom_range = 0.1,   #10%\n",
        "    # rescale=1./255,\n",
        "    # channel_shift_range = 0.2 \n",
        "    horizontal_flip = True,\n",
        "    vertical_flip = True)\n",
        "    # validation_split=0.15)\n",
        "\n",
        "# generator生成\n",
        "train_generator = datagen.flow_from_directory(\n",
        "    TRAIN_FILE_PATH,\n",
        "    target_size=(IMAGE_SIZE, IMAGE_SIZE),\n",
        "    seed=0,\n",
        "    batch_size=BATCH_SIZE,\n",
        "    classes=classes,\n",
        "    class_mode='categorical',\n",
        "    subset='training')\n",
        "\n",
        "# val_generator = datagen.flow_from_directory(\n",
        "#     TRAIN_FILE_PATH,\n",
        "#     target_size=(IMAGE_SIZE, IMAGE_SIZE),\n",
        "#     seed=0,\n",
        "#     batch_size=BATCH_SIZE,\n",
        "#     classes=classes,\n",
        "#     class_mode='categorical',\n",
        "#     subset='validation')"
      ],
      "execution_count": null,
      "outputs": []
    },
    {
      "cell_type": "code",
      "metadata": {
        "id": "k1jWh0tI4GVV"
      },
      "source": [
        "# 前処理後の画像可視化\n",
        "# train_generator 1 バッチ目の先頭 5 件のみ表示\n",
        "train_images, train_labels = next(train_generator)\n",
        "\n",
        "def plotImages(images_arr):\n",
        "    fig, axes = plt.subplots(1, 5, figsize=(20,20))\n",
        "    axes = axes.flatten()\n",
        "    for img, ax in zip( images_arr, axes):\n",
        "        ax.imshow(img)\n",
        "        ax.axis('off')\n",
        "    plt.tight_layout()\n",
        "    plt.show()\n",
        "\n",
        "print(train_labels[: 5])\n",
        "plotImages(train_images[: 5])"
      ],
      "execution_count": null,
      "outputs": []
    },
    {
      "cell_type": "markdown",
      "metadata": {
        "id": "nKnSAq9mlyH2"
      },
      "source": [
        "# モデルの学習\n",
        "optimizerはSGDを指定  \n",
        "2値クラス分類を指定  "
      ]
    },
    {
      "cell_type": "markdown",
      "metadata": {
        "id": "2J1HXqRdgI2D"
      },
      "source": [
        "## モデルの定義\n",
        "\n",
        "include_top  \n",
        "ネットワークの出力層側にある3つの全結合層(Fully Connected層)を含むかどうか。  \n",
        "今回はFC層を独自に計算するため、Falseを指定。\n",
        "\n",
        "weights  \n",
        "重みの種類を指定する。  \n",
        "None(ランダム初期化)か'imagenet' (ImageNetで学習した重み)のどちらか一方\n",
        "\n",
        "input_shape  \n",
        "オプショナルなshapeのタプル。  \n",
        "include_topがFalseの場合のみ指定可能 (そうでないときは入力のshapeは(224, 224, 3)。  \n",
        "正確に3つの入力チャンネルをもつ必要があり、width とheightは48以上にする必要がある"
      ]
    },
    {
      "cell_type": "code",
      "metadata": {
        "id": "beMdV1AbgI-Y"
      },
      "source": [
        "# from keras.applications.vgg16 import VGG16\n",
        "from keras.models import Sequential, Model\n",
        "from tensorflow.keras.layers import Dense, Activation, Dropout, Flatten\n",
        "\n",
        "#乱数シード固定\n",
        "seed_everything()\n",
        "\n",
        "# vgg16_model = VGG16(\n",
        "#     weights='imagenet',\n",
        "#     include_top=False,\n",
        "#     input_shape=(IMAGE_SIZE, IMAGE_SIZE, 3)   \n",
        "# )\n",
        "\n",
        "base_model = EfficientNetB7(\n",
        "    include_top=False,\n",
        "    weights='imagenet',\n",
        "    input_shape=(600, 600, 3),\n",
        "    pooling='avg')\n",
        "\n",
        "K.clear_session()\n",
        "tf.random.set_seed(TF_SEED)\n",
        "\n",
        "# パラメータ凍結\n",
        "# for layer in base_model.layers:\n",
        "# for layer in base_model.layers[:15]:\n",
        "for layer in base_model.layers[:]:  #全層\n",
        "    layer.trainable = False\n",
        "\n",
        "\n",
        "\n",
        "# モデルの構築\n",
        "# x = base_model.output\n",
        "# x = layers.Dense(4, activation='softmax')(x)\n",
        "# model = models.Model(base_model.input, x)\n",
        "top_model = Sequential()\n",
        "top_model.add(Flatten(input_shape=base_model.output_shape[1:]))\n",
        "top_model.add(Dense(256, activation='relu'))\n",
        "top_model.add(Dropout(0.5))\n",
        "top_model.add(Dense(256, activation='relu'))\n",
        "top_model.add(Dropout(0.5))\n",
        "top_model.add(Dense(4, activation='softmax'))\n",
        "\n",
        "model = Model(\n",
        "    inputs=base_model.input,\n",
        "    outputs=top_model(base_model.output)\n",
        ")\n",
        "model.summary()\n",
        "\n",
        "# コンパイル\n",
        "optimizer = tf.keras.optimizers.Adamax(lr=LEARNING_RATE, decay=1e-5)\n",
        "# optimizer = optimizers.SGD(lr=LEARNING_RATE, momentum=0.9)\n",
        "# model.compile(loss='sparse_categorical_crossentropy',\n",
        "model.compile(loss='categorical_crossentropy',\n",
        "              optimizer=optimizer,\n",
        "              metrics=['accuracy'])"
      ],
      "execution_count": null,
      "outputs": []
    },
    {
      "cell_type": "markdown",
      "metadata": {
        "id": "S5O5HNSd4ezT"
      },
      "source": [
        "## EarlyStopping"
      ]
    },
    {
      "cell_type": "code",
      "metadata": {
        "id": "qhuho9nD4drf"
      },
      "source": [
        "from keras.callbacks import EarlyStopping \n",
        "\n",
        "# EaelyStoppingの設定\n",
        "early_stopping =  EarlyStopping(\n",
        "                            # monitor='val_loss',\n",
        "                            monitor='loss',\n",
        "                            # min_delta=0.0,\n",
        "                            min_delta=0.001, # これより小さい改善は改善とみなさない\n",
        "                            patience=20,\n",
        ")"
      ],
      "execution_count": null,
      "outputs": []
    },
    {
      "cell_type": "markdown",
      "metadata": {
        "id": "jikYUQZl4p2j"
      },
      "source": [
        "## ReduceLROnPlateau"
      ]
    },
    {
      "cell_type": "code",
      "metadata": {
        "id": "3aYahwSdxGok"
      },
      "source": [
        "#ReduceLROnPlateauの定義\n",
        "from keras.callbacks import ReduceLROnPlateau\n",
        "\n",
        "reduce_lr = ReduceLROnPlateau(\n",
        "                        # monitor='val_loss',\n",
        "                        monitor='loss',\n",
        "                        factor=0.5,\n",
        "                        patience=3,\n",
        "                        min_lr=LEARNING_RATE*0.001\n",
        "                        # min_lr=LEARNING_RATE*0.01\n",
        "                        )"
      ],
      "execution_count": null,
      "outputs": []
    },
    {
      "cell_type": "markdown",
      "metadata": {
        "id": "P5j7hsst5bZR"
      },
      "source": [
        "## ModelCheckPoint"
      ]
    },
    {
      "cell_type": "code",
      "metadata": {
        "colab": {
          "base_uri": "https://localhost:8080/"
        },
        "id": "ihAlCKbX5b16",
        "outputId": "d764f29f-286e-47f5-e36c-d2360c2b3daf"
      },
      "source": [
        "from keras.callbacks import ModelCheckpoint\n",
        "\n",
        "# ModelCHeckpoint(最良値の保存)\n",
        "cp_path = OUTPUT_PATH + 'weight_' + STR_MODEL + '_' + STR_ID + '.hdf5'\n",
        "print(cp_path)\n",
        "model_cp = ModelCheckpoint(filepath = cp_path, \n",
        "                          #  monitor='val_loss', \n",
        "                           monitor='loss', \n",
        "                           verbose=0, \n",
        "                           save_best_only=True, \n",
        "                           save_weights_only=True, \n",
        "                           mode='auto')"
      ],
      "execution_count": null,
      "outputs": [
        {
          "output_type": "stream",
          "text": [
            "/content/drive/MyDrive/SIGNATE/Lemon/weight_EfficientB7_2.hdf5\n"
          ],
          "name": "stdout"
        }
      ]
    },
    {
      "cell_type": "markdown",
      "metadata": {
        "id": "tufX00Qe6Zg_"
      },
      "source": [
        "## CSVLogger"
      ]
    },
    {
      "cell_type": "code",
      "metadata": {
        "id": "4HcT7zKP5lnI"
      },
      "source": [
        "from keras.callbacks import CSVLogger\n",
        "\n",
        "now = datetime.datetime.now(datetime.timezone(datetime.timedelta(hours=9)))\n",
        "print(now)\n",
        "\n",
        "#ログ保存\n",
        "log_path = OUTPUT_PATH + 'log_' + STR_MODEL  + '_' + STR_ID +  '_' + now.strftime('%m%d%H%M') +'.csv'\n",
        "print(log_path)\n",
        "csv_logger = CSVLogger(log_path)"
      ],
      "execution_count": null,
      "outputs": []
    },
    {
      "cell_type": "markdown",
      "metadata": {
        "id": "MkYUKs9Tm6Or"
      },
      "source": [
        "## LearningRateScheduler"
      ]
    },
    {
      "cell_type": "code",
      "metadata": {
        "id": "9UamE0cSm65Y"
      },
      "source": [
        "df_log = pd.read_csv(OUTPUT_PATH + \"log_bestcase.csv\")\n",
        "\n",
        "df_log"
      ],
      "execution_count": null,
      "outputs": []
    },
    {
      "cell_type": "code",
      "metadata": {
        "id": "vZv_TJuUrBKf"
      },
      "source": [
        "num = 3\n",
        "\n",
        "df_temp = df_log.query('epoch == @num')\n",
        "\n",
        "lr = df_temp['lr']\n",
        "\n",
        "\n"
      ],
      "execution_count": null,
      "outputs": []
    },
    {
      "cell_type": "code",
      "metadata": {
        "id": "pa0UWAP4qQDi"
      },
      "source": [
        "from keras.callbacks import LearningRateScheduler\n",
        "\n",
        "def lr_schedul(epoch_in):\n",
        "    df_temp = df_log.query('epoch == @epoch_in')\n",
        "\n",
        "    lr = df_temp['lr']\n",
        "\n",
        "    print(\"epoch={}, lr={}\".format(epoch_in,lr))\n",
        "\n",
        "    return float(lr)\n",
        "\n",
        "lrscheduler = LearningRateScheduler(\n",
        "    lr_schedul,\n",
        "    # verbose=1で、更新メッセージ表示。0の場合は表示しない\n",
        "    verbose=1,\n",
        ")\n"
      ],
      "execution_count": null,
      "outputs": []
    },
    {
      "cell_type": "markdown",
      "metadata": {
        "id": "uahAdjrB8TiY"
      },
      "source": [
        "## fit"
      ]
    },
    {
      "cell_type": "code",
      "metadata": {
        "id": "zizdVfIvlxHP"
      },
      "source": [
        "from keras import optimizers\n",
        "\n",
        "#乱数シード固定\n",
        "seed_everything()\n",
        "\n",
        "history = model.fit_generator(train_generator,\n",
        "                epochs=EPOCH, \n",
        "                verbose=1,\n",
        "                # batch_size=BATCH_SIZE,\n",
        "                # validation_data=val_generator,\n",
        "                # callbacks=[early_stopping, model_cp, reduce_lr, csv_logger] \n",
        "                callbacks=[lrscheduler, csv_logger] \n",
        "                )"
      ],
      "execution_count": null,
      "outputs": []
    },
    {
      "cell_type": "code",
      "metadata": {
        "id": "1lFeVN-c-_r7",
        "colab": {
          "base_uri": "https://localhost:8080/",
          "height": 295
        },
        "outputId": "649faeae-54d1-4e1d-c7f8-0018c8d593d9"
      },
      "source": [
        "# Plot training & validation loss values\n",
        "plt.plot(history.history['loss'])\n",
        "# plt.plot(history.history['val_loss'])\n",
        "plt.title('Model loss')\n",
        "plt.ylabel('Loss')\n",
        "plt.xlabel('Epoch')\n",
        "plt.legend(['Train'], loc='upper left')\n",
        "plt.show()"
      ],
      "execution_count": null,
      "outputs": [
        {
          "output_type": "display_data",
          "data": {
            "image/png": "[encoded data removed]",
            "text/plain": [
              "<Figure size 432x288 with 1 Axes>"
            ]
          },
          "metadata": {
            "tags": [],
            "needs_background": "light"
          }
        }
      ]
    },
    {
      "cell_type": "markdown",
      "metadata": {
        "id": "aK9zl3vYppGt"
      },
      "source": [
        "# 推論"
      ]
    },
    {
      "cell_type": "markdown",
      "metadata": {
        "id": "RjNLauaD_ovO"
      },
      "source": [
        "## ImageDataGenerator テストデータ定義"
      ]
    },
    {
      "cell_type": "code",
      "metadata": {
        "id": "FFVcNwBGce1Z",
        "colab": {
          "base_uri": "https://localhost:8080/"
        },
        "outputId": "3ca89b6d-073c-43f8-92ed-86b7fb01eed6"
      },
      "source": [
        "# test 用\n",
        "test_datagen = ImageDataGenerator(\n",
        "    preprocessing_function=tf.keras.applications.efficientnet.preprocess_input\n",
        "    # ,rescale=1./255    \n",
        "    )\n",
        "\n",
        "test_generator = test_datagen.flow_from_directory(\n",
        "    TEST_FILE_PATH_A,\n",
        "    # seed=0,\n",
        "    shuffle = False, #シャッフルしない\n",
        "    target_size=(IMAGE_SIZE, IMAGE_SIZE),\n",
        "    class_mode=None)"
      ],
      "execution_count": null,
      "outputs": [
        {
          "output_type": "stream",
          "text": [
            "Found 1651 images belonging to 1 classes.\n"
          ],
          "name": "stdout"
        }
      ]
    },
    {
      "cell_type": "markdown",
      "metadata": {
        "id": "5evwrnlWAHPn"
      },
      "source": [
        "## predict"
      ]
    },
    {
      "cell_type": "code",
      "metadata": {
        "id": "UWRGNnqbMLwb"
      },
      "source": [
        "import pandas as pd\n",
        "\n",
        "# ModelCHeckpoint(最良値の保存)\n",
        "cp_path = OUTPUT_PATH + 'weight_' + STR_MODEL  + '_' + STR_ID + '.hdf5'\n",
        "print(cp_path)\n",
        "\n",
        "# 重みのロード\n",
        "# model.load_weights(cp_path)\n",
        "\n",
        "y_pred = model.predict_generator(test_generator)\n",
        "print(y_pred)\n"
      ],
      "execution_count": null,
      "outputs": []
    },
    {
      "cell_type": "markdown",
      "metadata": {
        "id": "nfjT3UMoB10j"
      },
      "source": [
        "# submitデータ作成"
      ]
    },
    {
      "cell_type": "code",
      "metadata": {
        "id": "NWn_tss7A62r"
      },
      "source": [
        "print(len(y_pred))\n",
        "\n",
        "result = []\n",
        "\n",
        "for i in range(len(y_pred)):\n",
        "  temp = list(y_pred[i])\n",
        "  temp2 = temp.index(max(temp))\n",
        "  # if temp2 != 0:\n",
        "  #   temp2 = 1\n",
        "  \n",
        "  result.append(temp2)\n",
        "\n",
        "print(result)\n",
        "\n",
        "u, counts = np.unique(result, return_counts=True)\n",
        "\n",
        "print(counts)"
      ],
      "execution_count": null,
      "outputs": []
    },
    {
      "cell_type": "markdown",
      "metadata": {
        "id": "Y_CPrnG6vDb1"
      },
      "source": [
        "## submitデータ保存"
      ]
    },
    {
      "cell_type": "code",
      "metadata": {
        "id": "DuoEIHcmWra-",
        "colab": {
          "base_uri": "https://localhost:8080/"
        },
        "outputId": "0581c9bf-9847-415f-e20f-41597a82c7f3"
      },
      "source": [
        "#現在時刻\n",
        "now = datetime.datetime.now(datetime.timezone(datetime.timedelta(hours=9)))\n",
        "print(now)\n",
        "\n",
        "with open(OUTPUT_PATH + 'submit_BS' + str(BATCH_SIZE) + '_LR' + str(LEARNING_RATE) + '_EfnetB7'  + '_' + STR_ID + '_' + now.strftime('%m%d%H%M') + '.csv', 'w') as f:\n",
        "  files = sorted(glob.glob(TEST_FILE_PATH_A + '*/*.jpg'))\n",
        "  for i, file in enumerate(files):\n",
        "      # ファイル名だけ抽出\n",
        "      # temp_file = file.lstrip(TEST_FILE_PATH_A+'test_images/')\n",
        "      temp_file = file.replace(TEST_FILE_PATH_A+'test_images/',\"\")\n",
        "      # print(\"{}:file={}\".format(i,temp_file))\n",
        "      write_string=temp_file + ',' + str(int(result[i]))\n",
        "      f.write(write_string+'\\n')\n",
        "\n",
        "\n",
        "# with open(output_path + 'submit_EfficientB7' + now.strftime('%m%d%H%M') + '.csv', 'w') as f:\n",
        "#     for i in range(len(df_sample)):\n",
        "#         write_string=df_sample.iloc[i]['Date'] + ',' + str(int(result.iloc[i]['Up']))\n",
        "#         f.write(write_string+'\\n')"
      ],
      "execution_count": null,
      "outputs": [
        {
          "output_type": "stream",
          "text": [
            "2021-02-27 22:38:15.735584+09:00\n"
          ],
          "name": "stdout"
        }
      ]
    },
    {
      "cell_type": "markdown",
      "metadata": {
        "id": "LinUpPDbvKnf"
      },
      "source": [
        "## 確率データ保存"
      ]
    },
    {
      "cell_type": "code",
      "metadata": {
        "id": "MZWYpDNZTfyZ"
      },
      "source": [
        "with open(OUTPUT_PATH + 'Rate_BS' + str(BATCH_SIZE) + '_LR' + str(LEARNING_RATE) + '_EfnetB7' + '_' + STR_ID + '_' + now.strftime('%m%d%H%M') + '.csv', 'w') as f:\n",
        "  files = sorted(glob.glob(TEST_FILE_PATH_A + '*/*.jpg'))\n",
        "  for i, file in enumerate(files):\n",
        "      # ファイル名だけ抽出\n",
        "      # temp_file = file.lstrip(TEST_FILE_PATH_A+'test_images/')\n",
        "      temp_file = file.replace(TEST_FILE_PATH_A+'test_images/',\"\")\n",
        "      # print(\"{}:file={}\".format(i,temp_file))\n",
        "      write_string=temp_file + ',' + str(y_pred[i][0])+ ',' + str(y_pred[i][1])+ ',' + str(y_pred[i][2])+ ',' + str(y_pred[i][3])\n",
        "      f.write(write_string+'\\n')"
      ],
      "execution_count": null,
      "outputs": []
    },
    {
      "cell_type": "code",
      "metadata": {
        "id": "bdBIu4za5umf",
        "colab": {
          "base_uri": "https://localhost:8080/"
        },
        "outputId": "69f401a1-7142-4c43-c0c0-202a89d478fb"
      },
      "source": [
        "#終了時刻\n",
        "finish_time = datetime.datetime.now(datetime.timezone(datetime.timedelta(hours=9)))\n",
        "print(\"finish_time=\",finish_time)\n",
        "print(\"total_time=\",finish_time-start_time)\n"
      ],
      "execution_count": null,
      "outputs": [
        {
          "output_type": "stream",
          "text": [
            "finish_time= 2021-02-27 22:38:15.824990+09:00\n",
            "total_time= 4:54:14.216706\n"
          ],
          "name": "stdout"
        }
      ]
    }
  ]
}